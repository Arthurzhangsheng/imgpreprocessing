{
 "cells": [
  {
   "cell_type": "code",
   "execution_count": 4,
   "metadata": {},
   "outputs": [],
   "source": [
    "import cv2\n",
    "import matplotlib.pyplot as plt\n",
    "import face_recognition\n",
    "import glob\n",
    "import numpy as np\n",
    "from pathlib import Path\n",
    "from tqdm import tqdm"
   ]
  },
  {
   "cell_type": "code",
   "execution_count": 5,
   "metadata": {},
   "outputs": [],
   "source": [
    "#图片剪裁\n",
    "def image_crop_padding(image,x1,y1,x2,y2):\n",
    "    h,w,_ = image.shape\n",
    "    \n",
    "    crop_x1 = max(0, x1)\n",
    "    crop_y1 = max(0, y1)\n",
    "    crop_x2 = min(w - 1, x2 - 1)  \n",
    "    crop_y2 = min(h - 1, y2 - 1)\n",
    "    \n",
    "    #从原图上提取需要被裁剪的区域（可能不是完整正方形）\n",
    "    roi_image = image[crop_y1: crop_y2 + 1, crop_x1: crop_x2 + 1]\n",
    "    #创建正方形画布\n",
    "    dst_image = np.zeros((x2-x1, y2-y1),dtype=\"uint8\" )\n",
    "    \n",
    "    #如果出现裁剪出了边缘，则填充边界\n",
    "    if crop_x1 != x1 or crop_x2 != x2 or crop_y1 != y1 or crop_y2 != y2:     \n",
    "        up_y = abs(crop_y1 - y1) \n",
    "        down_y = abs(crop_y2 - y2)\n",
    "        left_x = abs(crop_x1 - x1)\n",
    "        right_x = abs(crop_x2 - x2)\n",
    "        \n",
    "        dst_image = cv2.copyMakeBorder(roi_image,up_y,down_y,left_x, right_x,cv2.BORDER_REPLICATE)\n",
    "    else:\n",
    "        dst_image = roi_image\n",
    "    \n",
    "    return dst_image\n"
   ]
  },
  {
   "cell_type": "code",
   "execution_count": 23,
   "metadata": {
    "code_folding": [],
    "scrolled": true
   },
   "outputs": [],
   "source": [
    "def main(folder_path, size_threshold=250, scale=4):\n",
    "    root_path = Path(folder_path)\n",
    "    face_path = root_path / \"face\" \n",
    "    face_path.mkdir(exist_ok=True)\n",
    "    try:\n",
    "        with tqdm(glob.glob(str(root_path / \"*.??[Gg]\")), ncols=5) as t:\n",
    "            for image_path in t:\n",
    "                image_path = Path(image_path)\n",
    "                image = face_recognition.load_image_file(image_path)\n",
    "                #过滤小尺寸图片\n",
    "                if image.shape[0] < 1500 or image.shape[1] < 1500:\n",
    "                    continue\n",
    "\n",
    "                #缩小尺寸因子，缩小图片来检测获取人脸坐标，加快速度，不影响实际保存尺寸\n",
    "                scale = scale\n",
    "                rez_img = cv2.resize(image,(0, 0), fx=1/scale, fy=1/scale, interpolation=cv2.INTER_NEAREST)\n",
    "\n",
    "                face_locations = face_recognition.face_locations(rez_img)\n",
    "                if len(face_locations) > 0:\n",
    "                    #找出最大的人脸\n",
    "                    length_max = x_center = y_center = 0\n",
    "                    for coordinates in face_locations:\n",
    "                        y1, x2 ,y2, x1 = coordinates\n",
    "                        x1 *= scale\n",
    "                        y1 *= scale\n",
    "                        x2 *= scale\n",
    "                        y2 *= scale\n",
    "\n",
    "                        length = x2-x1\n",
    "                        if length > length_max:\n",
    "                            length_max = length\n",
    "                            x_center = x1 + length//2\n",
    "                            y_center = y1 + length//2\n",
    "\n",
    "                    #获得人脸框坐标（全脸）       \n",
    "        #             print(f\"最大的为 {length_max}\")\n",
    "                    x1_new = x_center-int(length_max/1.2)\n",
    "                    y1_new = y_center-int(length_max/1.2) - int(length_max/5)\n",
    "                    x2_new = x_center+int(length_max/1.2)\n",
    "                    y2_new =  y_center+int(length_max/1.2) - int(length_max/5)\n",
    "\n",
    "                    if length_max > size_threshold:\n",
    "                        #裁剪图片，自动padding\n",
    "                        face_image = image_crop_padding(image,x1_new,y1_new,x2_new,y2_new)\n",
    "                        #保存人脸图片\n",
    "                        save_path = face_path / (str(length_max) + \"_\" + image_path.name)\n",
    "                        face_image = face_image[...,::-1]\n",
    "                        cv2.imencode('.jpg', face_image)[1].tofile(str(save_path))\n",
    "                    \n",
    "#                     #画出人脸框\n",
    "#                     rect = cv2.rectangle(image.copy(),(x1_new, y1_new ),(x2_new, y2_new),(0,0,255), thickness=10)\n",
    "#                     plt.figure(figsize=(20,20))\n",
    "#                     plt.imshow(rect)\n",
    "#                     plt.show()\n",
    "\n",
    "#                 elif len(face_locations) == 0:\n",
    "#                     print(\"未检测到人脸\")\n",
    "#                     plt.figure(figsize=(20,20))\n",
    "#                     plt.imshow(image)\n",
    "#                     plt.show()\n",
    "    \n",
    "    #避免意外退出后tqdm后进度条显示异常\n",
    "    except KeyboardInterrupt:\n",
    "        t.close()\n",
    "        raise\n",
    "    t.close()"
   ]
  },
  {
   "cell_type": "code",
   "execution_count": 24,
   "metadata": {},
   "outputs": [
    {
     "name": "stderr",
     "output_type": "stream",
     "text": [
      "100%|█| 10/10 [00:07<00:00,  1.00it/s]\n"
     ]
    }
   ],
   "source": [
    "folder_path = r\"imgs\"\n",
    "main(folder_path, size_threshold=250, scale=4)"
   ]
  },
  {
   "cell_type": "code",
   "execution_count": null,
   "metadata": {},
   "outputs": [],
   "source": [
    "4-1.04\n",
    "3-1.51\n",
    "2-3.00"
   ]
  }
 ],
 "metadata": {
  "kernelspec": {
   "display_name": "Python 3",
   "language": "python",
   "name": "python3"
  },
  "language_info": {
   "codemirror_mode": {
    "name": "ipython",
    "version": 3
   },
   "file_extension": ".py",
   "mimetype": "text/x-python",
   "name": "python",
   "nbconvert_exporter": "python",
   "pygments_lexer": "ipython3",
   "version": "3.7.4"
  },
  "toc": {
   "base_numbering": 1,
   "nav_menu": {},
   "number_sections": true,
   "sideBar": true,
   "skip_h1_title": false,
   "title_cell": "Table of Contents",
   "title_sidebar": "Contents",
   "toc_cell": false,
   "toc_position": {},
   "toc_section_display": true,
   "toc_window_display": false
  }
 },
 "nbformat": 4,
 "nbformat_minor": 2
}
