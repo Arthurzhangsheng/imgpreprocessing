{
 "cells": [
  {
   "cell_type": "code",
   "execution_count": 2,
   "metadata": {
    "collapsed": true
   },
   "outputs": [],
   "source": [
    "import cv2\n",
    "\n",
    "\n",
    "#需要改写的部分,需要事先规范化重命名输入图片的名称\n",
    "read_dir = 'H:\\\\render\\\\'\n",
    "save_dir = 'H:\\\\sketch2render\\\\render_resized\\\\'\n",
    "total_image_number = 15898\n",
    "img_name_format = 'render (%d).jpg'\n",
    "\n",
    "\n",
    "for i in range(total_image_number):\n",
    "    number = i +1 #图片重命名后编号从1开始, 而在python里range从0开始计数, 所以需要+1\n",
    "    img_name = img_name_format%(number)\n",
    "   \n",
    "    #读取图片\n",
    "    img = cv2.imread(read_dir + img_name) #读取图片,注意双斜杠\n",
    "\n",
    "    #获取图片长宽, 计算缩放比例\n",
    "    if img is None:#如果当前序号的图片不存在,跳过之后步骤,进入下一个i\n",
    "        continue\n",
    "    h , w, _ = img.shape\n",
    "    if w >= h:\n",
    "        scaling_ratio = 256. / w\n",
    "    else:\n",
    "        scaling_ratio = 256. / h\n",
    "\n",
    "    #对图片进行缩放\n",
    "    img_resize = cv2.resize(img,None,fx=scaling_ratio, fy=scaling_ratio, interpolation = cv2.INTER_CUBIC)\n",
    "\n",
    "    #填充边缘部分\n",
    "    h_resize, w_resize, _ = img_resize.shape#读取resize后的尺寸\n",
    "    top_padding = (256 - h_resize)// 2     #填充像素数量必须为整数\n",
    "    bottom_padding = 256 - h_resize -top_padding\n",
    "    left_padding = (256 - w_resize)// 2\n",
    "    right_padding = 256 - w_resize - left_padding\n",
    "    img_resize_padding = cv2.copyMakeBorder(\n",
    "            img_resize,\n",
    "            top_padding,\n",
    "            bottom_padding,\n",
    "            left_padding,\n",
    "            right_padding,\n",
    "            cv2.BORDER_REPLICATE)#用重复边缘像素值的方式填充\n",
    "\n",
    "    #cv2.imshow('car_resize_padding',img_resize_padding)    #在新窗口中显示图片\n",
    "    #cv2.waitKey(500)    #设置图片展示时间, 单位毫秒, 0代表按任意键继续\n",
    "    #cv2.destroyAllWindows()  #关闭图片窗口\n",
    "\n",
    "    #保存图片\n",
    "    cv2.imwrite(save_dir + img_name,img_resize_padding)\n"
   ]
  }
 ],
 "metadata": {
  "kernelspec": {
   "display_name": "Python 3",
   "language": "python",
   "name": "python3"
  },
  "language_info": {
   "codemirror_mode": {
    "name": "ipython",
    "version": 3
   },
   "file_extension": ".py",
   "mimetype": "text/x-python",
   "name": "python",
   "nbconvert_exporter": "python",
   "pygments_lexer": "ipython3",
   "version": "3.6.3"
  }
 },
 "nbformat": 4,
 "nbformat_minor": 2
}
